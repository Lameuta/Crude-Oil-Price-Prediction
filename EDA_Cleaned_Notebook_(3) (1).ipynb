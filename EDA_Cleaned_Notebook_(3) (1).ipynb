{
  "cells": [
    {
      "cell_type": "markdown",
      "id": "8d390e80",
      "metadata": {
        "id": "8d390e80"
      },
      "source": [
        "# Exploratory Data Analysis (EDA)\n",
        "This notebook combines all features (old and new), explores them, visualizes distributions and correlations, and keeps only relevant features based on correlation with the target."
      ]
    },
    {
      "cell_type": "code",
      "execution_count": null,
      "id": "67ad3464",
      "metadata": {
        "id": "67ad3464"
      },
      "outputs": [],
      "source": [
        "import yfinance as yf\n",
        "import pandas as pd\n",
        "import numpy as np\n",
        "import seaborn as sns\n",
        "import matplotlib.pyplot as plt\n",
        "from sklearn.preprocessing import StandardScaler\n",
        "from sklearn.decomposition import PCA\n",
        "from textblob import TextBlob\n",
        "import warnings\n",
        "from datetime import datetime, timedelta\n",
        "from utils import *\n",
        "warnings.filterwarnings('ignore')"
      ]
    },
    {
      "cell_type": "markdown",
      "id": "296fc3a7",
      "metadata": {
        "id": "296fc3a7"
      },
      "source": [
        "## 1. Load Combined Features"
      ]
    },
    {
      "cell_type": "code",
      "execution_count": null,
      "id": "2a47d64b",
      "metadata": {
        "id": "2a47d64b"
      },
      "outputs": [],
      "source": [
        "TICKERS = {\n",
        "    # === CORE OIL & ENERGY ===\n",
        "    'WTI_Crude': 'CL=F',           # Target variable\n",
        "    'Brent_Oil': 'BZ=F',           # Alternative oil benchmark\n",
        "    'Natural_Gas': 'NG=F',         # Natural gas futures\n",
        "    'RBOB_Gasoline': 'RB=F',       # Gasoline futures\n",
        "    'Heating_Oil': 'HO=F',         # Heating oil futures\n",
        "\n",
        "    # === EQUITY INDICES ===\n",
        "    'SP500': '^GSPC',              # S&P 500\n",
        "    'NASDAQ': '^IXIC',             # NASDAQ\n",
        "    'Russell2000': '^RUT',         # Small cap\n",
        "    'FTSE100': '^FTSE',            # UK market\n",
        "    'DAX': '^GDAXI',               # German market\n",
        "    'Nikkei': '^N225',             # Japanese market\n",
        "\n",
        "    # === CURRENCIES ===\n",
        "    'DXY': 'DX-Y.NYB',             # US Dollar Index\n",
        "    'EUR_USD': 'EURUSD=X',         # Euro/USD\n",
        "    'GBP_USD': 'GBPUSD=X',         # British Pound/USD\n",
        "    'CAD_USD': 'CADUSD=X',         # Canadian Dollar/USD (oil exporter)\n",
        "    'NOK_USD': 'NOKUSD=X',         # Norwegian Krone/USD (oil exporter)\n",
        "\n",
        "    # === INTEREST RATES & BONDS ===\n",
        "    'US2Y': '^IRX',                # 2-year Treasury\n",
        "    'US5Y': '^FVX',                # 5-year Treasury\n",
        "    'US10Y': '^TNX',               # 10-year Treasury\n",
        "    'US30Y': '^TYX',               # 30-year Treasury\n",
        "\n",
        "    # === COMMODITIES ===\n",
        "    'Gold': 'GC=F',                # Gold futures\n",
        "    'Silver': 'SI=F',              # Silver futures\n",
        "    'Copper': 'HG=F',              # Copper futures\n",
        "\n",
        "    # === VOLATILITY & RISK ===\n",
        "    'VIX': '^VIX',                 # Volatility Index\n",
        "\n",
        "    # === SECTOR ETFS ===\n",
        "    'Energy_ETF': 'XLE',           # Energy sector ETF\n",
        "    'Oil_ETF': 'USO',              # Oil ETF\n",
        "    'Transportation': 'IYT',        # Transportation ETF\n",
        "    'Materials': 'XLB',            # Materials sector\n",
        "    'Emerging_Markets': 'EEM'       # Emerging markets\n",
        "}\n",
        "\n",
        "# Date configuration\n",
        "START_DATE = '2000-01-01'\n",
        "END_DATE = pd.to_datetime('today').strftime('%Y-%m-%d')\n",
        "\n",
        "print(f\"📊 Configured {len(TICKERS)} market indicators\")\n",
        "print(f\"📅 Date range: {START_DATE} to {END_DATE}\")"
      ]
    },
    {
      "cell_type": "markdown",
      "id": "ae890349",
      "metadata": {
        "id": "ae890349"
      },
      "source": [
        "## 2. Basic Data Overview"
      ]
    },
    {
      "cell_type": "code",
      "execution_count": null,
      "id": "j11dFGRaJEVo",
      "metadata": {
        "id": "j11dFGRaJEVo"
      },
      "outputs": [],
      "source": [
        "market_data, failed_downloads = download_market_data(TICKERS, START_DATE, END_DATE)\n",
        "\n",
        "if market_data is None:\n",
        "  print(\"❌ Failed to download any market data. Exiting.\")"
      ]
    },
    {
      "cell_type": "code",
      "execution_count": null,
      "id": "rpf6-bzgKzpY",
      "metadata": {
        "id": "rpf6-bzgKzpY"
      },
      "outputs": [],
      "source": [
        "market_data.head()"
      ]
    },
    {
      "cell_type": "markdown",
      "id": "4e4885af",
      "metadata": {
        "id": "4e4885af"
      },
      "source": [
        "## 3. Missing Value Analysis"
      ]
    },
    {
      "cell_type": "code",
      "execution_count": null,
      "id": "aIEt3s2VLTUs",
      "metadata": {
        "id": "aIEt3s2VLTUs"
      },
      "outputs": [],
      "source": [
        "processed_data = clean_and_process_data(market_data, add_sentiment=True)\n",
        "processed_data.head()"
      ]
    },
    {
      "cell_type": "markdown",
      "id": "9f5335c5",
      "metadata": {
        "id": "9f5335c5"
      },
      "source": [
        "## 4. Feature Distributions"
      ]
    },
    {
      "cell_type": "markdown",
      "id": "cda63a06",
      "metadata": {
        "id": "cda63a06"
      },
      "source": [
        "## 5. Correlation Heatmap"
      ]
    },
    {
      "cell_type": "code",
      "execution_count": null,
      "id": "057cdf08",
      "metadata": {
        "id": "057cdf08"
      },
      "outputs": [],
      "source": [
        "import pandas as pd\n",
        "import matplotlib.pyplot as plt\n",
        "import seaborn as sns\n",
        "from sklearn.ensemble import RandomForestRegressor\n",
        "from sklearn.preprocessing import StandardScaler\n",
        "\n",
        "def analyze_feature_relationships_with_oil(data, target_col='WTI_Crude', threshold=0.3, top_n=10):\n",
        "    \"\"\"\n",
        "    Perform feature correlation and importance analysis with respect to oil prices.\n",
        "\n",
        "    Parameters:\n",
        "    -----------\n",
        "    data : pd.DataFrame\n",
        "        Market data (features as columns).\n",
        "    target_col : str\n",
        "        Name of the target feature (default: 'WTI_Crude').\n",
        "    threshold : float\n",
        "        Absolute correlation threshold to select relevant features.\n",
        "    top_n : int\n",
        "        Number of top correlated features to display/analyze.\n",
        "\n",
        "    Returns:\n",
        "    --------\n",
        "    selected_features : list\n",
        "        List of selected feature names (including target).\n",
        "    correlations : pd.Series\n",
        "        Series of feature correlations with target_col.\n",
        "    \"\"\"\n",
        "    if target_col not in data.columns:\n",
        "        print(f\"❌ Target column '{target_col}' not found in data.\")\n",
        "        return None, None\n",
        "\n",
        "    print(f\"\\n🎯 Analyzing feature relationships with {target_col}...\")\n",
        "\n",
        "    # 1. Correlation Matrix\n",
        "    corr_matrix = data.corr()\n",
        "    plt.figure(figsize=(14, 10))\n",
        "    sns.heatmap(corr_matrix, cmap='coolwarm', center=0, annot=False)\n",
        "    plt.title(\"📌 Feature Correlation Matrix\")\n",
        "    plt.tight_layout()\n",
        "    plt.show()\n",
        "\n",
        "    # 2. Correlation with Target\n",
        "    correlations = corr_matrix[target_col].drop(target_col)\n",
        "    correlations_abs = correlations.abs().sort_values(ascending=False)\n",
        "\n",
        "    print(f\"\\n🔥 Top {top_n} Correlations with {target_col}:\")\n",
        "    for i, (feature, abs_corr) in enumerate(correlations_abs.head(top_n).items(), 1):\n",
        "        actual_corr = correlations[feature]\n",
        "        print(f\"   {i:2}. {feature:25}: {actual_corr:+.3f} (|{abs_corr:.3f}|)\")\n",
        "\n",
        "    # 3. Bar Chart of Top-N Correlations\n",
        "    plt.figure(figsize=(10, 6))\n",
        "    top_corr = correlations_abs.head(top_n)\n",
        "    sns.barplot(x=top_corr.values, y=top_corr.index, orient='h', palette='coolwarm')\n",
        "    plt.title(f\"📊 Top {top_n} Absolute Correlations with {target_col}\")\n",
        "    plt.xlabel(\"Correlation (absolute)\")\n",
        "    plt.tight_layout()\n",
        "    plt.show()\n",
        "\n",
        "    # 4. Feature Selection\n",
        "    selected_features_corr = correlations_abs[correlations_abs >= threshold]\n",
        "    selected_features = [target_col] + list(selected_features_corr.index)\n",
        "\n",
        "    print(f\"\\n✅ Selected {len(selected_features)-1} features with |correlation| ≥ {threshold}\")\n",
        "\n",
        "    # 5. Pairplot for selected features\n",
        "    if len(selected_features) <= 10:\n",
        "        sns.pairplot(data[selected_features].dropna())\n",
        "        plt.suptitle(\"📷 Pairwise Relationships (Selected Features)\", y=1.02)\n",
        "        plt.show()\n",
        "    else:\n",
        "        print(\"📷 Skipping pairplot (too many features selected).\")\n",
        "\n",
        "    # 6. Feature Importance (Random Forest)\n",
        "    print(\"\\n🌲 Calculating feature importances (Random Forest)...\")\n",
        "    feature_data = data[selected_features].dropna()\n",
        "    X = feature_data.drop(columns=target_col)\n",
        "    y = feature_data[target_col]\n",
        "\n",
        "    # Normalize features for importance comparison\n",
        "    scaler = StandardScaler()\n",
        "    X_scaled = scaler.fit_transform(X)\n",
        "\n",
        "    rf = RandomForestRegressor(random_state=42)\n",
        "    rf.fit(X_scaled, y)\n",
        "\n",
        "    importances = pd.Series(rf.feature_importances_, index=X.columns).sort_values(ascending=True)\n",
        "\n",
        "    plt.figure(figsize=(10, 6))\n",
        "    importances.plot(kind='barh', color='teal')\n",
        "    plt.title(\"🌟 Feature Importances (Random Forest)\")\n",
        "    plt.xlabel(\"Importance Score\")\n",
        "    plt.tight_layout()\n",
        "    plt.show()\n",
        "\n",
        "    # 7. Histogram/Distribution of Selected Features\n",
        "    print(\"\\n📈 Plotting distributions of selected features...\")\n",
        "    selected_data = data[selected_features].dropna()\n",
        "    selected_data.hist(figsize=(15, 10), bins=30, layout=(len(selected_features) // 3 + 1, 3))\n",
        "    plt.suptitle(\"📊 Distributions of Selected Features\", fontsize=16, y=1.02)\n",
        "    plt.tight_layout()\n",
        "    plt.show()\n",
        "        # 8. Scatterplots vs. Target\n",
        "    print(\"\\n📌 Scatterplots of selected features vs. target...\")\n",
        "    max_plots = min(9, len(selected_features) - 1)\n",
        "    fig, axes = plt.subplots(nrows=(max_plots + 2) // 3, ncols=3, figsize=(15, 10))\n",
        "    axes = axes.flatten()\n",
        "\n",
        "    for i, feature in enumerate(selected_features_corr.head(max_plots).index):\n",
        "        ax = axes[i]\n",
        "        sns.scatterplot(data=data, x=feature, y=target_col, ax=ax, alpha=0.5)\n",
        "        corr_val = correlations[feature]\n",
        "        ax.set_title(f\"{feature} (r = {corr_val:.2f})\")\n",
        "\n",
        "    # Hide unused subplots\n",
        "    for j in range(i + 1, len(axes)):\n",
        "        axes[j].axis('off')\n",
        "\n",
        "    plt.suptitle(f\"📉 Scatterplots vs. {target_col}\", fontsize=16, y=1.02)\n",
        "    plt.tight_layout()\n",
        "    plt.show()\n",
        "\n",
        "\n",
        "    return selected_features, correlations\n"
      ]
    },
    {
      "cell_type": "code",
      "execution_count": null,
      "id": "5aqzvzsvLdUJ",
      "metadata": {
        "id": "5aqzvzsvLdUJ"
      },
      "outputs": [],
      "source": [
        "selected_features, correlations = analyze_feature_relationships_with_oil(\n",
        "            processed_data, target_col='WTI_Crude', threshold=0.3\n",
        "        )\n",
        "final_data = processed_data[selected_features].copy()"
      ]
    },
    {
      "cell_type": "markdown",
      "id": "c0d4f3cb",
      "metadata": {
        "id": "c0d4f3cb"
      },
      "source": [
        "## 6. Select Highly Correlated Features"
      ]
    },
    {
      "cell_type": "code",
      "execution_count": null,
      "id": "858d500c",
      "metadata": {
        "id": "858d500c"
      },
      "outputs": [],
      "source": [
        "print(f\"\\n\" + \"=\" * 60)\n",
        "print(f\"📋 FINAL DATASET SUMMARY\")\n",
        "print(f\"=\" * 60)\n",
        "print(f\"   • Shape: {final_data.shape[0]:,} rows × {final_data.shape[1]:,} columns\")\n",
        "print(f\"   • Date range: {final_data.index.min().strftime('%Y-%m-%d')} to {final_data.index.max().strftime('%Y-%m-%d')}\")\n",
        "print(f\"   • Features included: {final_data.shape[1]:,}\")"
      ]
    },
    {
      "cell_type": "markdown",
      "id": "b04fb0df",
      "metadata": {
        "id": "b04fb0df"
      },
      "source": [
        "## 7. Save Relevant Features"
      ]
    },
    {
      "cell_type": "code",
      "execution_count": null,
      "id": "3d43504e",
      "metadata": {
        "id": "3d43504e"
      },
      "outputs": [],
      "source": [
        "# Save the filtered relevant features\n",
        "final_data.to_csv(\"relevant_features.csv\")\n",
        "print(\"Saved to relevant_features.csv\")"
      ]
    },
    {
      "cell_type": "code",
      "execution_count": null,
      "id": "8oc1Ff4KBi3F",
      "metadata": {
        "id": "8oc1Ff4KBi3F"
      },
      "outputs": [],
      "source": [
        "final_data.describe()"
      ]
    }
  ],
  "metadata": {
    "colab": {
      "provenance": []
    },
    "kernelspec": {
      "display_name": "Python 3",
      "name": "python3"
    },
    "language_info": {
      "name": "python"
    }
  },
  "nbformat": 4,
  "nbformat_minor": 5
}