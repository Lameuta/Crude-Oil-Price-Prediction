{
  "nbformat": 4,
  "nbformat_minor": 0,
  "metadata": {
    "colab": {
      "provenance": []
    },
    "kernelspec": {
      "name": "python3",
      "display_name": "Python 3"
    },
    "language_info": {
      "name": "python"
    }
  },
  "cells": [
    {
      "cell_type": "markdown",
      "source": [
        "Merge three files"
      ],
      "metadata": {
        "id": "Y53khLl8zLbm"
      }
    },
    {
      "cell_type": "code",
      "metadata": {
        "id": "4c82ce6f"
      },
      "source": [
        "import pandas as pd\n",
        "\n",
        "# Define the file paths\n",
        "file_paths = {\n",
        "    'Day': 'combined_oil_price_data_D.csv',\n",
        "    'Week': 'combined_oil_price_data_W.csv',\n",
        "    'Month': 'combined_oil_price_data_M.csv'\n",
        "}\n",
        "\n",
        "# List to store individual dataframes\n",
        "dfs = []\n",
        "\n",
        "# Load each file, add the 'Granularity' column, and append to the list\n",
        "for granularity, file_path in file_paths.items():\n",
        "    try:\n",
        "        df = pd.read_csv(file_path)\n",
        "        df['Granularity'] = granularity\n",
        "        dfs.append(df)\n",
        "    except FileNotFoundError:\n",
        "        print(f\"File not found: {file_path}\")\n",
        "    except Exception as e:\n",
        "        print(f\"Error processing file {file_path}: {e}\")\n",
        "\n",
        "\n",
        "# Concatenate all dataframes into a single dataframe\n",
        "if dfs:\n",
        "    merged_df = pd.concat(dfs, ignore_index=True)\n",
        "    display(merged_df.head())\n",
        "else:\n",
        "    print(\"No dataframes were loaded.\")"
      ],
      "execution_count": null,
      "outputs": []
    }
  ]
}